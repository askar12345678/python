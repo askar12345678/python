{
 "cells": [
  {
   "cell_type": "markdown",
   "id": "cf022f48",
   "metadata": {},
   "source": [
    "01_ocean"
   ]
  },
  {
   "cell_type": "code",
   "execution_count": 1,
   "id": "6a5daa18",
   "metadata": {},
   "outputs": [],
   "source": [
    "import numpy as np\n",
    "import pandas as pd"
   ]
  },
  {
   "cell_type": "code",
   "execution_count": 29,
   "id": "aa36142b",
   "metadata": {},
   "outputs": [
    {
     "name": "stdout",
     "output_type": "stream",
     "text": [
      "5 7\n",
      "1 2 -15 -7 -4 -3 7\n",
      "2 2 2 2 2 2 2 \n",
      "-8 -8 -8 -2 -2 -2 -9\n",
      "4 4 4 4 -5 -5 -9\n",
      "2 2 2 2 2 2 2 \n",
      "7\n",
      "14\n",
      "7\n"
     ]
    }
   ],
   "source": [
    "N,M = input().split()\n",
    "N = int(N)\n",
    "M = int(M)\n",
    "data = []\n",
    "for i in range(N):\n",
    "    row = input().split()\n",
    "    for j in range(M):\n",
    "        row[j] = int(row[j])\n",
    "    data.append(row)\n",
    "df = pd.DataFrame(data)\n",
    "\n",
    "print(df[df < -5].count().sum())\n",
    "print(df[df < 0].count().sum())\n",
    "print(df.max().max())"
   ]
  },
  {
   "cell_type": "markdown",
   "id": "b27a655a",
   "metadata": {},
   "source": [
    "03_gamestats"
   ]
  },
  {
   "cell_type": "code",
   "execution_count": 29,
   "id": "31791848",
   "metadata": {},
   "outputs": [
    {
     "name": "stdout",
     "output_type": "stream",
     "text": [
      "C:\\Users\\Пользователь\\Downloads\\games001.csv\n",
      "C:\\Users\\Пользователь\\Downloads\\rates001.csv\n",
      "Darkest Dungeon 9.0\n",
      "XCOM 2 8.867\n",
      "Civilization V 8.333\n",
      "Firaxis 2\n"
     ]
    }
   ],
   "source": [
    "path_games = input()\n",
    "path_rates = input()\n",
    "games = pd.read_csv(path_games, sep=';')\n",
    "rates = pd.read_csv(path_rates, sep=';')\n",
    "\n",
    "means = (round(rates.groupby('id').mark.mean(), 3)).tolist()\n",
    "games['mean_rate'] = means\n",
    "Sorted = games.sort_values(by=['mean_rate'], ascending=False).head(3)\n",
    "for i in range(len(Sorted['name'].tolist())):\n",
    "    print(Sorted['name'].tolist()[i], Sorted['mean_rate'].tolist()[i])\n",
    "    \n",
    "lst = [1 for i in range(len(games))]\n",
    "games['always1'] = lst    \n",
    "more_than_8 = games[games['mean_rate'] > 8]\n",
    "s = more_than_8.groupby('company').always1.count()\n",
    "n = pd.DataFrame(s)\n",
    "n = n.sort_values(by=['always1'], ascending = False)\n",
    "max_ = n['always1'].tolist()[0]\n",
    "print(n.index [n['always1'] == max_  ].tolist()[0], max_)"
   ]
  },
  {
   "cell_type": "markdown",
   "id": "755f2086",
   "metadata": {},
   "source": [
    "04_hirsch"
   ]
  },
  {
   "cell_type": "code",
   "execution_count": 36,
   "id": "c1c51e6e",
   "metadata": {},
   "outputs": [
    {
     "name": "stdout",
     "output_type": "stream",
     "text": [
      "C:\\Users\\Пользователь\\Downloads\\papers001.csv\n",
      "C:\\Users\\Пользователь\\Downloads\\links001.csv\n",
      "A.N.Onim 1.0\n",
      "Petrov 0.667\n",
      "Sidorov 0.5\n"
     ]
    }
   ],
   "source": [
    "path_papers = input()\n",
    "path_links = input()\n",
    "papers = pd.read_csv(path_papers, sep=';')\n",
    "links= pd.read_csv(path_links, sep=';')\n",
    "\n",
    "titles = papers['title'].tolist()\n",
    "quoting = []\n",
    "for title in titles:\n",
    "    tmp = links.apply(lambda x : True\n",
    "                if x['reference'] == title else False, axis=1)\n",
    "    quoting.append(len(tmp[tmp == True].index))\n",
    "papers['quoting'] = quoting\n",
    "ans = round(papers.groupby('author').quoting.mean(), 3)\n",
    "sort_ans = ans.sort_values(ascending=False).head(3)\n",
    "\n",
    "a = sort_ans.index.tolist()\n",
    "b = sort_ans.tolist()\n",
    "for i in range(len(a)):\n",
    "    print(a[i], b[i])"
   ]
  },
  {
   "cell_type": "markdown",
   "id": "25b215b1",
   "metadata": {},
   "source": [
    "C:\\Users\\Пользователь\\Downloads\\papers001.csv C:\\Users\\Пользователь\\Downloads\\links001.csv"
   ]
  }
 ],
 "metadata": {
  "kernelspec": {
   "display_name": "Python 3 (ipykernel)",
   "language": "python",
   "name": "python3"
  },
  "language_info": {
   "codemirror_mode": {
    "name": "ipython",
    "version": 3
   },
   "file_extension": ".py",
   "mimetype": "text/x-python",
   "name": "python",
   "nbconvert_exporter": "python",
   "pygments_lexer": "ipython3",
   "version": "3.9.7"
  }
 },
 "nbformat": 4,
 "nbformat_minor": 5
}
