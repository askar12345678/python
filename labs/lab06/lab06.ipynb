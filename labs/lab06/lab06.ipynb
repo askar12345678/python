{
 "cells": [
  {
   "cell_type": "code",
   "execution_count": 33,
   "id": "3d6b0424",
   "metadata": {},
   "outputs": [
    {
     "name": "stdout",
     "output_type": "stream",
     "text": [
      "2 (mod 3)\n",
      "2 (mod 3)\n",
      "True\n",
      "1 (mod 3)\n",
      "0 (mod 3)\n",
      "1 (mod 3)\n"
     ]
    },
    {
     "data": {
      "text/plain": [
       "Residue(0, 3)"
      ]
     },
     "execution_count": 33,
     "metadata": {},
     "output_type": "execute_result"
    }
   ],
   "source": [
    "class Residue:\n",
    "    def __init__(self, num: int, mod: int):\n",
    "        self.num = num % mod\n",
    "        self.mod = mod\n",
    "        \n",
    "    def __str__(self) -> str:\n",
    "        return f'{self.num} (mod {self.mod})'\n",
    "    \n",
    "    def __repr__(self) -> str:\n",
    "        return f'Residue({self.num}, {self.mod})'\n",
    "    \n",
    "    def __eq__(self,other):\n",
    "        if self.mod == other.mod:\n",
    "            return self.num == other.num\n",
    "        else:\n",
    "            raise TypeError\n",
    "    \n",
    "    def __add__(self, other) -> 'Residue':\n",
    "        if self.mod == other.mod:\n",
    "            return Residue(self.num + other.num, self.mod)\n",
    "        else:\n",
    "            raise TypeError\n",
    "    \n",
    "    def __neg__(self):\n",
    "        return Residue(-1 * self.num, self.mod)\n",
    "    \n",
    "    def __sub__(self, other) -> 'Residue':\n",
    "        if self.mod == other.mod:\n",
    "            return self + -other\n",
    "        else:\n",
    "            raise TypeError\n",
    "    \n",
    "    def __mul__(self, other) -> 'Residue':\n",
    "        if self.mod == other.mod:\n",
    "            return Residue(self.num * other.num, self.mod)\n",
    "        else:\n",
    "            raise TypeError\n",
    "        \n",
    "r1 = Residue(2, mod=3)\n",
    "r2 = Residue(5, mod=3)\n",
    "\n",
    "print(r1)        # 2 (mod 3)\n",
    "print(r2)        # 2 (mod 3)\n",
    "print(r1 == r2)  # True\n",
    "print(r1 + r2)   # 1 (mod 3)\n",
    "print(r1 - r2)   # 0 (mod 3)\n",
    "print(r1 * r2)   # 1 (mod 3)\n",
    "r1 - r2"
   ]
  }
 ],
 "metadata": {
  "kernelspec": {
   "display_name": "Python 3 (ipykernel)",
   "language": "python",
   "name": "python3"
  },
  "language_info": {
   "codemirror_mode": {
    "name": "ipython",
    "version": 3
   },
   "file_extension": ".py",
   "mimetype": "text/x-python",
   "name": "python",
   "nbconvert_exporter": "python",
   "pygments_lexer": "ipython3",
   "version": "3.9.7"
  }
 },
 "nbformat": 4,
 "nbformat_minor": 5
}
