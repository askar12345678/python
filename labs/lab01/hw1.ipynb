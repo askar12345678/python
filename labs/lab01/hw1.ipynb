{
 "cells": [
  {
   "cell_type": "code",
   "execution_count": 1,
   "id": "fb3ad5a0",
   "metadata": {},
   "outputs": [],
   "source": [
    "import string\n",
    "def puncdel(s):\n",
    "    s1 = ''.join(c for c in s if c not in string.punctuation)\n",
    "    return s1"
   ]
  },
  {
   "cell_type": "code",
   "execution_count": 14,
   "id": "30e6689b",
   "metadata": {},
   "outputs": [
    {
     "name": "stdout",
     "output_type": "stream",
     "text": [
      "Спасённая Джеком Воробьём, который вытащил её на поверхность и разорвал корсет, она смогла сделать вдох. Пиратский медальон на ней оказывается знакомым Джеку Воробью. Джентельмен не станет лишать леди приятных иллюзий. По пути Гиббс рассказывает Уиллу легенду о чудесном спасении Джека Воробья от заточения на острове. Я Джек Воробей! Смекаешь? А я Джек Воробейник! А меня зовут Джек Воробейкин! Ну а я Джек Воробейный!\n",
      "Спасённая капитаном Джеком Воробьём, который вытащил её на поверхность и разорвал корсет, она смогла сделать вдох.\n",
      "Пиратский медальон на ней оказывается знакомым капитану Джеку Воробью.\n",
      "Джентельмен не станет лишать леди приятных иллюзий.\n",
      "По пути Гиббс рассказывает Уиллу легенду о чудесном спасении капитана Джека Воробья от заточения на острове.\n",
      "Я капитан Джек Воробей!\n",
      "Смекаешь?\n",
      "А я Джек Воробейник!\n",
      "А меня зовут Джек Воробейкин!\n",
      "Ну а я Джек Воробейный!\n"
     ]
    }
   ],
   "source": [
    "s = input()\n",
    "old = [i for i in s.split()]\n",
    "len_old = len(old)\n",
    "ind, ind1, ind2, ind3, ind4, ind5 = [], [], [], [], [], []\n",
    "for i in range (0, len(old) - 1):\n",
    "        if old[i] == 'Джек' and puncdel(old[i+1]) == 'Воробей':\n",
    "            ind1 = ind1 + [i]\n",
    "        if old[i] == 'Джека' and puncdel(old[i+1]) == 'Воробья':\n",
    "            ind2 = ind2 + [i]\n",
    "        if old[i] == 'Джеку' and puncdel(old[i+1]) == 'Воробью':\n",
    "            ind3 = ind3 + [i]\n",
    "        if old[i] == 'Джеком' and puncdel(old[i+1]) == 'Воробьём':\n",
    "            ind4 = ind4 + [i]\n",
    "        if old[i] == 'Джеке' and puncdel(old[i+1]) == 'Воробье':\n",
    "            ind5 = ind5 + [i]\n",
    "new = old.copy()\n",
    "l1, l2 , l3 ,l4, l5 = len(ind1), len(ind2), len(ind3), len(ind4), len(ind5)\n",
    "l = [l1] + [l2] + [l3] + [l4] +[l5]\n",
    "ind = [ind1] + [ind2] + [ind3] + [ind4] +[ind5]\n",
    "caps= ['капитан'] + ['капитана'] + ['капитану'] + ['капитаном'] + ['капитане']\n",
    "\n",
    "for k in range(0,5):\n",
    "    cnt = 0\n",
    "    while cnt != l[k]:\n",
    "        new.insert(ind[k][cnt],caps[k])\n",
    "        for i in range(0,l1):\n",
    "            if ind1[i] > ind[k][cnt]:\n",
    "                ind1[i] += 1\n",
    "        for i in range(0,l2):\n",
    "            if ind2[i] > ind[k][cnt]:\n",
    "                ind2[i] += 1\n",
    "        for i in range(0,l3):\n",
    "            if ind3[i] > ind[k][cnt]:\n",
    "                ind3[i] += 1\n",
    "        for i in range(0,l4):\n",
    "            if ind4[i] > ind[k][cnt]:\n",
    "                ind4[i] += 1\n",
    "        for i in range(0,l5):\n",
    "            if ind5[i] > ind[k][cnt]:\n",
    "                ind5[i] += 1\n",
    "        cnt += 1\n",
    "        \n",
    "for i in new:\n",
    "    if i[len(i)-1] == '.' or i[len(i)-1] == '!' or i[len(i)-1] == '?':\n",
    "        print(i , end='\\n')\n",
    "    else:\n",
    "        print(i, end =' ')"
   ]
  }
 ],
 "metadata": {
  "kernelspec": {
   "display_name": "Python 3 (ipykernel)",
   "language": "python",
   "name": "python3"
  },
  "language_info": {
   "codemirror_mode": {
    "name": "ipython",
    "version": 3
   },
   "file_extension": ".py",
   "mimetype": "text/x-python",
   "name": "python",
   "nbconvert_exporter": "python",
   "pygments_lexer": "ipython3",
   "version": "3.9.7"
  }
 },
 "nbformat": 4,
 "nbformat_minor": 5
}