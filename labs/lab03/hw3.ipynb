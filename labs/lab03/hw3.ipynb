{
 "cells": [
  {
   "cell_type": "code",
   "execution_count": 2,
   "id": "a5d89d70",
   "metadata": {},
   "outputs": [],
   "source": [
    "import csv\n",
    "import json\n",
    "import os\n",
    "import pickle\n",
    "import shutil"
   ]
  },
  {
   "cell_type": "code",
   "execution_count": 14,
   "id": "046a40ca",
   "metadata": {},
   "outputs": [
    {
     "name": "stdout",
     "output_type": "stream",
     "text": [
      "file.txt file.json file.csv\n"
     ]
    }
   ],
   "source": [
    "os.chdir(os.getenv(\"HOME\"))\n",
    "if os.path.exists('hw3') and os.path.isdir('hw3'):\n",
    "    ! rm -r hw3\n",
    "    ! mkdir hw3\n",
    "else:\n",
    "    ! mkdir hw3\n",
    "os.chdir('./hw3')\n",
    "with open('file.txt', 'w') as file:\n",
    "    file.write(\n",
    "'''Do you believe in Heaven above?\n",
    "Do you believe in love?\n",
    "Don't tell a lie, don't be false or untrue\n",
    "It all comes back to you''')\n",
    "data = {'movies': [{'name': 'Полночь в Париже',\n",
    "   'release_year': 2011,\n",
    "   'director': 'Вуди Аллен'},\n",
    "  {'name': 'Гравити Фолз', 'release_year': 2012, 'creator': 'Алекс Хирш'},\n",
    "  {'name': 'Окно во двор',\n",
    "   'release_year': 1954,\n",
    "   'director': 'Альфред Хичкок'}]}\n",
    "with open(\"file.json\", \"w\", encoding='utf8') as out:\n",
    "    json.dump(data, out, indent=4, ensure_ascii=False)\n",
    "data1 = [\n",
    "        [\"Cancer Type\",\"D-Loop\",\"mRNAs\",\"tRNAs\",\"rRNAs\",\"Nucleotide Position of Deletions\",\"Increase of mtDNA copy #\",\"Decrease of mtDNA copy #\"],\n",
    "        [\"Bladder\",1,1,0,1,15642-15662,0,0],\n",
    "        [\"Breast\",1,1,1,1,8470-13447 and 8482-13459,0,1],\n",
    "        [\"Oral\",1,1,0,0,8470-13447 and 8482-13459,0,0]\n",
    "        ]\n",
    "with open(\"file.csv\", \"a\") as file:\n",
    "    writer = csv.writer(file)            \n",
    "    for x in data1:\n",
    "        writer.writerow(x) \n",
    "! mkdir folder \n",
    "print('file.txt', 'file.json', 'file.csv')\n",
    "os.chdir(os.getenv(\"HOME\"))\n",
    "shutil.rmtree('hw3')"
   ]
  }
 ],
 "metadata": {
  "kernelspec": {
   "display_name": "Python 3 (ipykernel)",
   "language": "python",
   "name": "python3"
  },
  "language_info": {
   "codemirror_mode": {
    "name": "ipython",
    "version": 3
   },
   "file_extension": ".py",
   "mimetype": "text/x-python",
   "name": "python",
   "nbconvert_exporter": "python",
   "pygments_lexer": "ipython3",
   "version": "3.10.6"
  }
 },
 "nbformat": 4,
 "nbformat_minor": 5
}
