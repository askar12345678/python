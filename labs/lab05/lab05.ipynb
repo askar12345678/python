{
 "cells": [
  {
   "cell_type": "code",
   "execution_count": 46,
   "id": "aafc3bfd",
   "metadata": {},
   "outputs": [],
   "source": [
    "import datetime\n",
    "CURRENT_YEAR = datetime.datetime.now().year"
   ]
  },
  {
   "cell_type": "code",
   "execution_count": 47,
   "id": "aad96b3e",
   "metadata": {},
   "outputs": [],
   "source": [
    "class Human:\n",
    "    def __init__(self, name: str, sex: str, year_of_birth: int):\n",
    "        self.name = name\n",
    "        self.sex = sex\n",
    "        self.year_of_birth = year_of_birth\n",
    "    \n",
    "class Movie:\n",
    "    def __init__(self, name: str, director: str, year: int, country: str, duration: int, age_rating: int):\n",
    "        self.name = name\n",
    "        self.director = director\n",
    "        self.year = year\n",
    "        self.country = country\n",
    "        self.duration = duration\n",
    "        self.age_rating = age_rating\n",
    "        \n",
    "    def is_allowed(self, human):\n",
    "        if (CURRENT_YEAR - human.year_of_birth) >= self.age_rating:\n",
    "            return True\n",
    "        else:\n",
    "            return False\n",
    "        \n",
    "class Cartoon(Movie):\n",
    "    def __init__(self, name: str, director: str, year: int, country: str, duration: int, age_rating: int, technique: str):\n",
    "        super().__init__(name=name, director=director, year=year, country=country, duration=duration, age_rating=age_rating)\n",
    "        self.technique = technique\n",
    "\n",
    "class Anime(Cartoon):\n",
    "    def __init__(self, name: str, director: str, year: int, duration: int, age_rating: int, technique: str):\n",
    "        self.name = name\n",
    "        self.director = director\n",
    "        self.year = year\n",
    "        self.duration = duration\n",
    "        self.age_rating = age_rating\n",
    "        self.technique = technique\n",
    "        self.country = \"Japan\""
   ]
  },
  {
   "cell_type": "code",
   "execution_count": 48,
   "id": "f61f91c5",
   "metadata": {},
   "outputs": [
    {
     "name": "stdout",
     "output_type": "stream",
     "text": [
      "True\n",
      "True\n"
     ]
    }
   ],
   "source": [
    "movie = Movie(\n",
    "  name=\"Dune\", director=\"Denis Villeneuve\", year=2021,\n",
    "  country=\"USA\", duration=155, age_rating=13\n",
    ")\n",
    "\n",
    "human = Human(name=\"Neo\", sex=\"M\", year_of_birth=1964)\n",
    "another_human = Human(name='Morpheus', sex=\"M\", year_of_birth=1961)\n",
    "\n",
    "print(movie.is_allowed(human))\n",
    "print(movie.is_allowed(another_human))"
   ]
  },
  {
   "cell_type": "code",
   "execution_count": 49,
   "id": "20664d32",
   "metadata": {},
   "outputs": [
    {
     "name": "stdout",
     "output_type": "stream",
     "text": [
      "False\n",
      "False\n"
     ]
    }
   ],
   "source": [
    "cartoon = Cartoon(\n",
    "  name=\"Spider-Man: Into the Spider-Verse\", director=\"Bob Persichetti, Peter Ramsey, Rodney Rothman\", year=2018,\n",
    "  country=\"USA\", duration=117, age_rating=6, technique=\"computer-animated\"\n",
    ")\n",
    "anime = Anime(\n",
    "  name=\"Spirited Away\", director=\"Hayao Miyazaki\", year=2001, duration=125, age_rating=12, technique=\"drawn\"\n",
    ")\n",
    "\n",
    "young_human = Human(name='John', sex=\"M\", year_of_birth=2022)\n",
    "\n",
    "print(cartoon.is_allowed(young_human))\n",
    "print(anime.is_allowed(young_human))"
   ]
  }
 ],
 "metadata": {
  "kernelspec": {
   "display_name": "Python 3 (ipykernel)",
   "language": "python",
   "name": "python3"
  },
  "language_info": {
   "codemirror_mode": {
    "name": "ipython",
    "version": 3
   },
   "file_extension": ".py",
   "mimetype": "text/x-python",
   "name": "python",
   "nbconvert_exporter": "python",
   "pygments_lexer": "ipython3",
   "version": "3.9.7"
  }
 },
 "nbformat": 4,
 "nbformat_minor": 5
}
