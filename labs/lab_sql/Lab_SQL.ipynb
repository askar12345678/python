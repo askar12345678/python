{
 "cells": [
  {
   "cell_type": "code",
   "execution_count": 1,
   "id": "b4060610",
   "metadata": {},
   "outputs": [],
   "source": [
    "import sqlite3\n",
    "from datetime import datetime"
   ]
  },
  {
   "cell_type": "code",
   "execution_count": 2,
   "id": "30dbb206",
   "metadata": {},
   "outputs": [],
   "source": [
    "! mkdir -p databases"
   ]
  },
  {
   "cell_type": "code",
   "execution_count": 5,
   "id": "5f754e3a",
   "metadata": {},
   "outputs": [],
   "source": [
    "DB_PATH = \"databases/library.db\""
   ]
  },
  {
   "cell_type": "code",
   "execution_count": 6,
   "id": "4fb40bfb",
   "metadata": {},
   "outputs": [],
   "source": [
    "connection = sqlite3.connect(DB_PATH)"
   ]
  },
  {
   "cell_type": "code",
   "execution_count": 10,
   "id": "f037c024",
   "metadata": {},
   "outputs": [],
   "source": [
    "cursor = connection.cursor()\n",
    "cursor.execute('''\n",
    "    CREATE TABLE IF NOT EXISTS Book(\n",
    "        id INTEGER PRIMARY KEY,\n",
    "        author TEXT,\n",
    "        title TEXT,\n",
    "        publish_year INTEGER\n",
    "    );\n",
    "''')\n",
    "\n",
    "cursor.execute('''\n",
    "    CREATE TABLE IF NOT EXISTS Reader(\n",
    "        id INTEGER PRIMARY KEY,\n",
    "        name TEXT\n",
    "    );\n",
    "''')\n",
    "\n",
    "cursor.execute('''\n",
    "        CREATE TABLE IF NOT EXISTS Record(\n",
    "        id INTEGER PRIMARY KEY,\n",
    "        reader_id INTEGER,\n",
    "        book_id INTEGER,\n",
    "        taking_date TEXT,\n",
    "        returning_date TEXT,\n",
    "        FOREIGN KEY (reader_id) REFERENCES Reader (id),\n",
    "        FOREIGN KEY (book_id) REFERENCES Book (id)\n",
    "    );\n",
    "''')\n",
    "\n",
    "books = [\n",
    "        ('J.K.Rowling' , 'Harry Potter and the Philosopher''s Stone', 1997),\n",
    "        ('J.K.Rowling' , 'Harry Potter and the Chamber of Secrets', 1998),\n",
    "        ('Дж. Оруэлл' , '1984', 1949),\n",
    "        ('Корявов В.П' , 'Методы решения задач в общем курсе физики (Механика)', 2016),\n",
    "        ('А.Стругацкий, Б.Стругацкий' , 'Понедельник начинается в субботу', 1964),\n",
    "]\n",
    "\n",
    "cursor.executemany(\n",
    "    \"\"\"INSERT INTO Book(author, title, publish_year)\n",
    "       VALUES (?, ?, ?);\"\"\",\n",
    "    books\n",
    ")\n",
    "\n",
    "readers = [\n",
    "    ('I.Ivanov',),\n",
    "    ('S.Petrov',),\n",
    "    ('P.Sidorov',),\n",
    "]\n",
    "\n",
    "cursor.executemany(\n",
    "    \"\"\"INSERT INTO Reader(name)\n",
    "       VALUES (?);\"\"\",\n",
    "    readers\n",
    ")\n",
    "\n",
    "\n",
    "records = [\n",
    "    (1, 1, '2023-03-01', '2023-04-01'),\n",
    "    (2, 4, '2023-03-18', '2023-04-18'),\n",
    "    (3, 3, '2023-03-18', '2023-04-18'),\n",
    "]\n",
    "\n",
    "cursor.executemany(\n",
    "    \"\"\"INSERT INTO Record(reader_id, book_id, taking_date, returning_date)\n",
    "       VALUES (?, ?, ?, ?);\"\"\",\n",
    "    records\n",
    ")\n",
    "connection.commit()"
   ]
  },
  {
   "cell_type": "code",
   "execution_count": 2,
   "id": "76516d8b",
   "metadata": {},
   "outputs": [],
   "source": [
    "def select_all(connection, table_name: str) -> None:\n",
    "    cursor = connection.cursor()\n",
    "\n",
    "    for row in cursor.execute(f\"SELECT * FROM {table_name};\"):\n",
    "        print(row)"
   ]
  },
  {
   "cell_type": "code",
   "execution_count": 26,
   "id": "c05ddf52",
   "metadata": {},
   "outputs": [
    {
     "name": "stdout",
     "output_type": "stream",
     "text": [
      "(1, 'J.K.Rowling', 'Harry Potter and the Philosophers Stone', 1997)\n",
      "(2, 'J.K.Rowling', 'Harry Potter and the Chamber of Secrets by J. K. Rowling', 1998)\n",
      "(3, 'Дж. Оруэлл', '1984', 1949)\n",
      "(4, 'Корявов В.П', 'Методы решения задач в общем курсе физики (Механика)', 2016)\n",
      "(5, 'А.Стругацкий, Б.Стругацкий', 'Понедельник начинается в субботу', 1964)\n",
      "\n",
      "\n",
      "(1, 'I.Ivanov')\n",
      "(2, 'S.Petrov')\n",
      "(3, 'P.Sidorov')\n",
      "\n",
      "\n",
      "(1, 1, 1, '2023-03-01', '2023-04-01')\n",
      "(2, 2, 4, '2023-03-18', '2023-04-18')\n",
      "(3, 3, 3, '2023-03-18', '2023-04-18')\n"
     ]
    }
   ],
   "source": [
    "select_all(connection, 'Book')\n",
    "print('\\n')\n",
    "select_all(connection, 'Reader')\n",
    "print('\\n')\n",
    "select_all(connection, 'Record')"
   ]
  },
  {
   "cell_type": "code",
   "execution_count": 30,
   "id": "76aa4ed5",
   "metadata": {},
   "outputs": [],
   "source": [
    "def print_books(connection):\n",
    "    cursor = connection.cursor()\n",
    "    for row in cursor.execute(\"SELECT title FROM Book;\"):\n",
    "        print(row[0])"
   ]
  },
  {
   "cell_type": "code",
   "execution_count": 31,
   "id": "2edc08e2",
   "metadata": {},
   "outputs": [
    {
     "name": "stdout",
     "output_type": "stream",
     "text": [
      "Harry Potter and the Philosophers Stone\n",
      "Harry Potter and the Chamber of Secrets by J. K. Rowling\n",
      "1984\n",
      "Методы решения задач в общем курсе физики (Механика)\n",
      "Понедельник начинается в субботу\n"
     ]
    }
   ],
   "source": [
    "print_books(connection)"
   ]
  },
  {
   "cell_type": "code",
   "execution_count": 32,
   "id": "a4a24e22",
   "metadata": {},
   "outputs": [],
   "source": [
    "def print_readers(connection):\n",
    "    cursor = connection.cursor()\n",
    "    for row in cursor.execute(\"SELECT name FROM Reader;\"):\n",
    "        print(row[0])"
   ]
  },
  {
   "cell_type": "code",
   "execution_count": 33,
   "id": "7cf8510f",
   "metadata": {},
   "outputs": [
    {
     "name": "stdout",
     "output_type": "stream",
     "text": [
      "I.Ivanov\n",
      "S.Petrov\n",
      "P.Sidorov\n"
     ]
    }
   ],
   "source": [
    "print_readers(connection)"
   ]
  },
  {
   "cell_type": "code",
   "execution_count": 39,
   "id": "039ed3e2",
   "metadata": {},
   "outputs": [],
   "source": [
    "def add_book(connection, book: tuple):\n",
    "    cursor = connection.cursor()\n",
    "    cursor.executemany(\n",
    "    \"\"\"INSERT INTO Book(author, title, publish_year)\n",
    "       VALUES (?, ?, ?);\"\"\",\n",
    "    book\n",
    "    )\n",
    "    connection.commit()"
   ]
  },
  {
   "cell_type": "code",
   "execution_count": 46,
   "id": "d4224353",
   "metadata": {},
   "outputs": [
    {
     "name": "stdout",
     "output_type": "stream",
     "text": [
      "(1, 'J.K.Rowling', 'Harry Potter and the Philosophers Stone', 1997)\n",
      "(2, 'J.K.Rowling', 'Harry Potter and the Chamber of Secrets', 1998)\n",
      "(3, 'Дж. Оруэлл', '1984', 1949)\n",
      "(4, 'Корявов В.П', 'Методы решения задач в общем курсе физики (Механика)', 2016)\n",
      "(5, 'А.Стругацкий, Б.Стругацкий', 'Понедельник начинается в субботу', 1964)\n",
      "(6, 'H.Wells', 'The War of the Worlds', 1897)\n"
     ]
    }
   ],
   "source": [
    "book = [('H.Wells', 'The War of the Worlds', 1897)]\n",
    "add_book(connection, book)\n",
    "select_all(connection, 'Book')"
   ]
  },
  {
   "cell_type": "code",
   "execution_count": 47,
   "id": "3b81b64e",
   "metadata": {},
   "outputs": [],
   "source": [
    "def add_reader(connection, reader:tuple):\n",
    "    cursor = connection.cursor()\n",
    "    cursor.executemany(\n",
    "    \"\"\"INSERT INTO Reader(name)\n",
    "       VALUES (?);\"\"\",\n",
    "    reader\n",
    "    )\n",
    "    connection.commit()"
   ]
  },
  {
   "cell_type": "code",
   "execution_count": 49,
   "id": "f43177b4",
   "metadata": {},
   "outputs": [
    {
     "name": "stdout",
     "output_type": "stream",
     "text": [
      "(1, 'I.Ivanov')\n",
      "(2, 'S.Petrov')\n",
      "(3, 'P.Sidorov')\n",
      "(4, 'J.Depp')\n"
     ]
    }
   ],
   "source": [
    "reader = [('J.Depp',)]\n",
    "add_reader(connection, reader)\n",
    "select_all(connection, 'Reader')"
   ]
  },
  {
   "cell_type": "code",
   "execution_count": 8,
   "id": "0ed509df",
   "metadata": {},
   "outputs": [],
   "source": [
    "def give_book(connection, reader: str, book: str, dor: str):\n",
    "    cursor = connection.cursor()\n",
    "    \n",
    "    cursor.execute(f\"SELECT * FROM Reader WHERE name = '{reader}'\")\n",
    "    reader_id = cursor.fetchone()[0]\n",
    "    cursor.execute(f\"SELECT * FROM Book WHERE title = '{book}'\")\n",
    "    book_id = cursor.fetchone()[0]\n",
    "    date = datetime.today().strftime('%Y-%m-%d')\n",
    "    value = [(reader_id, book_id, date, dor,)]\n",
    "    cursor.executemany(\n",
    "    \"\"\"INSERT INTO Record(reader_id, book_id, taking_date, returning_date)\n",
    "       VALUES (?, ?, ?, ?);\"\"\",\n",
    "    value\n",
    "    )\n",
    "    connection.commit()"
   ]
  },
  {
   "cell_type": "code",
   "execution_count": 9,
   "id": "717bab9e",
   "metadata": {},
   "outputs": [],
   "source": [
    "give_book(connection, 'I.Ivanov', 'Harry Potter and the Chamber of Secrets', '2023-04-15')"
   ]
  },
  {
   "cell_type": "code",
   "execution_count": 15,
   "id": "5036a93d",
   "metadata": {},
   "outputs": [
    {
     "name": "stdout",
     "output_type": "stream",
     "text": [
      "(1, 1, 1, '2023-03-01', '2023-04-01')\n",
      "(2, 2, 4, '2023-03-18', '2023-04-18')\n",
      "(3, 3, 3, '2023-03-18', '2023-04-18')\n",
      "(4, 1, 2, '2023-04-03', '2023-04-15')\n"
     ]
    }
   ],
   "source": [
    "select_all(connection, 'Record')"
   ]
  },
  {
   "cell_type": "code",
   "execution_count": 16,
   "id": "a71e4f58",
   "metadata": {},
   "outputs": [],
   "source": [
    "def take_book(connection, reader: str, book: str):\n",
    "    cursor = connection.cursor()\n",
    "    cursor.execute(f\"SELECT * FROM Reader WHERE name = '{reader}'\")\n",
    "    reader_id = cursor.fetchone()[0]\n",
    "    cursor.execute(f\"SELECT * FROM Book WHERE title = '{book}'\")\n",
    "    book_id = cursor.fetchone()[0]\n",
    "    cursor.execute(f\"DELETE FROM Record WHERE reader_id = '{reader_id}' AND book_id = '{book_id}';\")\n",
    "    connection.commit()"
   ]
  },
  {
   "cell_type": "code",
   "execution_count": 17,
   "id": "ab7bc06d",
   "metadata": {},
   "outputs": [],
   "source": [
    "take_book(connection, 'S.Petrov', 'Методы решения задач в общем курсе физики (Механика)')"
   ]
  },
  {
   "cell_type": "code",
   "execution_count": 18,
   "id": "3f164036",
   "metadata": {},
   "outputs": [
    {
     "name": "stdout",
     "output_type": "stream",
     "text": [
      "(1, 1, 1, '2023-03-01', '2023-04-01')\n",
      "(3, 3, 3, '2023-03-18', '2023-04-18')\n",
      "(4, 1, 2, '2023-04-03', '2023-04-15')\n"
     ]
    }
   ],
   "source": [
    "select_all(connection, 'Record')"
   ]
  }
 ],
 "metadata": {
  "kernelspec": {
   "display_name": "Python 3 (ipykernel)",
   "language": "python",
   "name": "python3"
  },
  "language_info": {
   "codemirror_mode": {
    "name": "ipython",
    "version": 3
   },
   "file_extension": ".py",
   "mimetype": "text/x-python",
   "name": "python",
   "nbconvert_exporter": "python",
   "pygments_lexer": "ipython3",
   "version": "3.9.7"
  }
 },
 "nbformat": 4,
 "nbformat_minor": 5
}
